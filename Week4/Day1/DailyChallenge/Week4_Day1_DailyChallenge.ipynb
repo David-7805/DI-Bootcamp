{
  "nbformat": 4,
  "nbformat_minor": 0,
  "metadata": {
    "colab": {
      "provenance": [],
      "authorship_tag": "ABX9TyPvnwoIfF0vfpYVlWovnzrP",
      "include_colab_link": true
    },
    "kernelspec": {
      "name": "python3",
      "display_name": "Python 3"
    },
    "language_info": {
      "name": "python"
    }
  },
  "cells": [
    {
      "cell_type": "markdown",
      "metadata": {
        "id": "view-in-github",
        "colab_type": "text"
      },
      "source": [
        "<a href=\"https://colab.research.google.com/github/David-7805/DI-Bootcamp/blob/master/Week4/Day1/DailyChallenge/Week4_Day1_DailyChallenge.ipynb\" target=\"_parent\"><img src=\"https://colab.research.google.com/assets/colab-badge.svg\" alt=\"Open In Colab\"/></a>"
      ]
    },
    {
      "cell_type": "markdown",
      "source": [
        "#Daily Challenge: Real-World Data Analysis Scenarios"
      ],
      "metadata": {
        "id": "UJoMl5MPA1aN"
      }
    },
    {
      "cell_type": "markdown",
      "source": [
        "Step 1, a relevant news story:"
      ],
      "metadata": {
        "id": "80v5OrO9B6rt"
      }
    },
    {
      "cell_type": "markdown",
      "source": [
        "21 March 2024 on the website of BBC News:\n",
        "\n",
        "**NHS AI spots tiny cancers missed by doctors**\n",
        "\n",
        "According to the article, an AI tool called Mia tested by the NHS (National Health Service, United Kingdom) successfully identified tiny signs of breast cancer in 11 women which had been missed by human doctors. It also successfully flagged all of those with symptons that were detected by human doctors."
      ],
      "metadata": {
        "id": "XKQwTx63CCZb"
      }
    },
    {
      "cell_type": "markdown",
      "source": [
        "Step 2, the role of data analysis in the story:"
      ],
      "metadata": {
        "id": "s61ohydZEQ36"
      }
    },
    {
      "cell_type": "markdown",
      "source": [
        "The role of data analysis in the story is that the AI was trained on \"millions\" of mammograms (x-ray pictures of the breast) from \"women all over the world\" to detect signs of breast cancer. The article stressed the importance of both the quantity of the training data as well as its diversity, which corresponds well with what we have learned. The precise method used was not mentioned by the article, but it is clear that a form of machine learning (probably supervised machine learning) was used. And machine learning is a subfield of data science."
      ],
      "metadata": {
        "id": "kA8vYD4yEczW"
      }
    },
    {
      "cell_type": "markdown",
      "source": [
        "Step 3, how data analysis impacted the situation:"
      ],
      "metadata": {
        "id": "vBByOf14Iu2x"
      }
    },
    {
      "cell_type": "markdown",
      "source": [
        "It is clear that without Mia, in eleven cases the breast cancer would not have been detected in this early stage, which would have reduced the chances of survival of the women. Machine learning, a subfield of data science, contributed to this healthcare improvement."
      ],
      "metadata": {
        "id": "clvStrkTJBr4"
      }
    },
    {
      "cell_type": "code",
      "source": [],
      "metadata": {
        "id": "nKPZeORYK-Vn"
      },
      "execution_count": null,
      "outputs": []
    }
  ]
}